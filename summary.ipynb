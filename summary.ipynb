{
 "cells": [
  {
   "cell_type": "markdown",
   "metadata": {},
   "source": [
    "# M7003_finalpiece_24000114067\n",
    "\n",
    "LIS MASc  \n",
    "The Right Word  \n",
    "Final Piece (Choice 2: NLP)  \n",
    "Student number: 24000114067\n",
    "\n",
    "Access notebook, data and pdf filesin the [GitHub repository](https://github.com/noah-art3mis/nlp-assignment) (`M7003_finalpiece_24000114067.ipynb` and `M7003_finalpiece_24000114067.pdf`)\n",
    "\n",
    "PDF generated using [nbconvert](https://nbconvert.readthedocs.io/en/latest/)\n",
    "\n",
    "## Intersect - Personalized job matching\n",
    "\n",
    "This is an web app (acess on [streamlit]()) that can be used to find jobs that match your profile.\n",
    "\n",
    "-   [ ] The NLP-aided analysis of a corpus of documents will extract non-obvious insights from a corpus of documents using tools from coding and data science. The corpus of documents could consist of a literary archive, a body of social media posts, a scrape from an online knowledge database; ideally, these would have some relation to the capstone problem. The submission should offer a graphical representation of its discoveries and include a write up of c. 500 words the documents the process involved. A link to an executable code notebook should also be included as part of the submission.\n",
    "-   [ ] Assessment Choice 2 should be submitted as a PDF file that contains a brief summary of the submission and which contains a link to a GitHUb repository where the code notebook and all relevant data can be found - max 500 words\n",
    "\n",
    "ai sells. while i find it intellectually dishonest to call reordering a table using embeddings 'intelligent', in the current zeitgeist i believe this is the play. i have seen far worse.\n",
    "\n",
    "-   findings\n",
    "-   illustrations\n",
    "\n",
    "this is not necessary related to the capstone but is relevant for my future and can also help other people and also be a piece for a portfolio. this can become an actual product if it is good.\n",
    "\n",
    "the data is publicly available and their robots.txt file does not disallow scraping of these pages.\n",
    "\n",
    "while we're here, we can also do some basic nlp to see if theres anything there. we already have the data.\n",
    "\n",
    "more details regarding the choices made can be found in the README file.\n",
    "\n",
    "---\n",
    "\n",
    "This work contains [ ] words (not counting tables and figures).\n",
    "\n",
    "---\n",
    "\n",
    "-   The submission should use technical concepts from linguistics and/or NLP\n",
    "    in practically useful way, drawing on relevant sources and tools.\n",
    "-   The submission should justify the intellectual choices it makes with respect\n",
    "    to analysis and/or optimisation in relation to theoretical methods and\n",
    "    established methodologies—and do so in a critically informed way.\n",
    "-   Where relevant, the submission should convincingly manipulate language\n",
    "    and/or narrative qualitatively and/or quantitatively, using appropriate\n",
    "    methods.\n",
    "-   The assessment should evidence skills in the communication of complex\n",
    "    ideas in its chosen format.\n"
   ]
  },
  {
   "cell_type": "markdown",
   "metadata": {},
   "source": []
  }
 ],
 "metadata": {
  "kernelspec": {
   "display_name": ".venv",
   "language": "python",
   "name": "python3"
  },
  "language_info": {
   "name": "python",
   "version": "3.10.12"
  }
 },
 "nbformat": 4,
 "nbformat_minor": 2
}
