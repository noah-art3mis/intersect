{
 "cells": [
  {
   "cell_type": "code",
   "execution_count": 8,
   "metadata": {},
   "outputs": [
    {
     "name": "stdout",
     "output_type": "stream",
     "text": [
      "<class 'pandas.core.frame.DataFrame'>\n",
      "RangeIndex: 650 entries, 0 to 649\n",
      "Data columns (total 9 columns):\n",
      " #   Column        Non-Null Count  Dtype \n",
      "---  ------        --------------  ----- \n",
      " 0   title         650 non-null    object\n",
      " 1   company       650 non-null    object\n",
      " 2   location      650 non-null    object\n",
      " 3   salary        650 non-null    object\n",
      " 4   type          650 non-null    object\n",
      " 5   posted        650 non-null    object\n",
      " 6   job_industry  650 non-null    object\n",
      " 7   abstract      650 non-null    object\n",
      " 8   url           650 non-null    object\n",
      "dtypes: object(9)\n",
      "memory usage: 45.8+ KB\n"
     ]
    }
   ],
   "source": [
    "import pandas as pd\n",
    "\n",
    "df = pd.read_feather(\"../intersect/data/law.feather\")\n",
    "df.info()"
   ]
  },
  {
   "cell_type": "code",
   "execution_count": 9,
   "metadata": {},
   "outputs": [
    {
     "name": "stdout",
     "output_type": "stream",
     "text": [
      "<class 'pandas.core.frame.DataFrame'>\n",
      "RangeIndex: 141 entries, 0 to 140\n",
      "Data columns (total 11 columns):\n",
      " #   Column        Non-Null Count  Dtype \n",
      "---  ------        --------------  ----- \n",
      " 0   title         141 non-null    object\n",
      " 1   company       141 non-null    object\n",
      " 2   location      141 non-null    object\n",
      " 3   salary        141 non-null    object\n",
      " 4   type          141 non-null    object\n",
      " 5   posted        141 non-null    object\n",
      " 6   job_industry  141 non-null    object\n",
      " 7   abstract      141 non-null    object\n",
      " 8   url           141 non-null    object\n",
      " 9   description   141 non-null    object\n",
      " 10  embedding     141 non-null    object\n",
      "dtypes: object(11)\n",
      "memory usage: 12.2+ KB\n"
     ]
    }
   ],
   "source": [
    "df = df.iloc[:141]\n",
    "df.info()\n",
    "df.to_feather(\"../intersect/data/jobs-144.feather\")"
   ]
  },
  {
   "cell_type": "code",
   "execution_count": null,
   "metadata": {},
   "outputs": [],
   "source": [
    "from sklearn.decomposition import PCA\n",
    "import pandas as pd\n",
    "\n",
    "\n",
    "def pca_df(df: pd.DataFrame) -> pd.DataFrame:\n",
    "    n_components = 2\n",
    "    pca = PCA(n_components)\n",
    "    principal_components = pca.fit_transform(df[\"embedding\"].tolist())\n",
    "   \n",
    "    pca_columns = [f\"PC{i+1}\" for i in range(n_components)]\n",
    "    pca_df = pd.DataFrame(principal_components, columns=pca_columns, index=df.index)\n",
    "    return pd.concat([df, pca_df], axis=1).drop(columns=['description', 'embedding'])\n",
    "\n",
    "\n",
    "c = pca_df(df)\n",
    "c"
   ]
  },
  {
   "cell_type": "code",
   "execution_count": null,
   "metadata": {},
   "outputs": [],
   "source": []
  }
 ],
 "metadata": {
  "kernelspec": {
   "display_name": ".venv",
   "language": "python",
   "name": "python3"
  },
  "language_info": {
   "codemirror_mode": {
    "name": "ipython",
    "version": 3
   },
   "file_extension": ".py",
   "mimetype": "text/x-python",
   "name": "python",
   "nbconvert_exporter": "python",
   "pygments_lexer": "ipython3",
   "version": "3.10.12"
  }
 },
 "nbformat": 4,
 "nbformat_minor": 2
}
