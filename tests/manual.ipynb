{
 "cells": [
  {
   "cell_type": "code",
   "execution_count": 2,
   "metadata": {},
   "outputs": [],
   "source": [
    "import pandas as pd"
   ]
  },
  {
   "cell_type": "code",
   "execution_count": 3,
   "metadata": {},
   "outputs": [
    {
     "data": {
      "text/html": [
       "<div>\n",
       "<style scoped>\n",
       "    .dataframe tbody tr th:only-of-type {\n",
       "        vertical-align: middle;\n",
       "    }\n",
       "\n",
       "    .dataframe tbody tr th {\n",
       "        vertical-align: top;\n",
       "    }\n",
       "\n",
       "    .dataframe thead th {\n",
       "        text-align: right;\n",
       "    }\n",
       "</style>\n",
       "<table border=\"1\" class=\"dataframe\">\n",
       "  <thead>\n",
       "    <tr style=\"text-align: right;\">\n",
       "      <th></th>\n",
       "      <th>title</th>\n",
       "      <th>company</th>\n",
       "      <th>location</th>\n",
       "      <th>salary</th>\n",
       "      <th>type</th>\n",
       "      <th>posted</th>\n",
       "      <th>job_industry</th>\n",
       "      <th>abstract</th>\n",
       "      <th>url</th>\n",
       "    </tr>\n",
       "  </thead>\n",
       "  <tbody>\n",
       "    <tr>\n",
       "      <th>0</th>\n",
       "      <td>AI Engineer</td>\n",
       "      <td>Randstad Technologies Recruitment</td>\n",
       "      <td>London</td>\n",
       "      <td>£80,000 - £130,000/annum</td>\n",
       "      <td>Permanent</td>\n",
       "      <td>2024-12-09T11:34:31Z</td>\n",
       "      <td>Engineering</td>\n",
       "      <td>Job Title: AI Engineer. Location: Central Lond...</td>\n",
       "      <td>https://www.cv-library.co.uk/job/222767113/AI-...</td>\n",
       "    </tr>\n",
       "    <tr>\n",
       "      <th>1</th>\n",
       "      <td>AI Solution Architect</td>\n",
       "      <td>GCS Ltd</td>\n",
       "      <td>London</td>\n",
       "      <td>£800 - £900/day</td>\n",
       "      <td>Contract</td>\n",
       "      <td>2024-12-16T17:10:19Z</td>\n",
       "      <td>IT</td>\n",
       "      <td>AI Solution Architect - 18-month Contract - Fe...</td>\n",
       "      <td>https://www.cv-library.co.uk/job/222799912/AI-...</td>\n",
       "    </tr>\n",
       "    <tr>\n",
       "      <th>2</th>\n",
       "      <td>AI Project Manager</td>\n",
       "      <td>In Technology Group</td>\n",
       "      <td>City of London, London</td>\n",
       "      <td>£75,000 - £85,000/annum Extensive Benefits</td>\n",
       "      <td>Permanent</td>\n",
       "      <td>2025-01-07T12:49:41Z</td>\n",
       "      <td>Managerial</td>\n",
       "      <td>Role: AI Project Manager. Location: City of Lo...</td>\n",
       "      <td>https://www.cv-library.co.uk/job/222863903/AI-...</td>\n",
       "    </tr>\n",
       "    <tr>\n",
       "      <th>3</th>\n",
       "      <td>Senior AI Engineer</td>\n",
       "      <td>Platform Recruitment</td>\n",
       "      <td>WC2A, Holborn and Covent Garden, Greater London</td>\n",
       "      <td>£60,000 - £80,000/annum</td>\n",
       "      <td>Permanent</td>\n",
       "      <td>2024-12-23T11:31:09Z</td>\n",
       "      <td>Engineering</td>\n",
       "      <td>London– Senior AI Engineer - £60 – 80k – AI An...</td>\n",
       "      <td>https://www.cv-library.co.uk/job/220343944/Sen...</td>\n",
       "    </tr>\n",
       "    <tr>\n",
       "      <th>4</th>\n",
       "      <td>Head of AI - Robotics</td>\n",
       "      <td>Lawrence Harvey</td>\n",
       "      <td>London</td>\n",
       "      <td>£100,000 - £200,000/annum + benefits</td>\n",
       "      <td>Permanent</td>\n",
       "      <td>2025-01-03T07:00:04Z</td>\n",
       "      <td></td>\n",
       "      <td>Head of AI - Robotic Autonomy. Are you passion...</td>\n",
       "      <td>https://www.cv-library.co.uk/job/222845101/Hea...</td>\n",
       "    </tr>\n",
       "  </tbody>\n",
       "</table>\n",
       "</div>"
      ],
      "text/plain": [
       "                   title                            company  \\\n",
       "0            AI Engineer  Randstad Technologies Recruitment   \n",
       "1  AI Solution Architect                            GCS Ltd   \n",
       "2     AI Project Manager                In Technology Group   \n",
       "3     Senior AI Engineer               Platform Recruitment   \n",
       "4  Head of AI - Robotics                    Lawrence Harvey   \n",
       "\n",
       "                                          location  \\\n",
       "0                                           London   \n",
       "1                                           London   \n",
       "2                           City of London, London   \n",
       "3  WC2A, Holborn and Covent Garden, Greater London   \n",
       "4                                           London   \n",
       "\n",
       "                                       salary       type  \\\n",
       "0                    £80,000 - £130,000/annum  Permanent   \n",
       "1                             £800 - £900/day   Contract   \n",
       "2  £75,000 - £85,000/annum Extensive Benefits  Permanent   \n",
       "3                     £60,000 - £80,000/annum  Permanent   \n",
       "4        £100,000 - £200,000/annum + benefits  Permanent   \n",
       "\n",
       "                 posted job_industry  \\\n",
       "0  2024-12-09T11:34:31Z  Engineering   \n",
       "1  2024-12-16T17:10:19Z           IT   \n",
       "2  2025-01-07T12:49:41Z   Managerial   \n",
       "3  2024-12-23T11:31:09Z  Engineering   \n",
       "4  2025-01-03T07:00:04Z                \n",
       "\n",
       "                                            abstract  \\\n",
       "0  Job Title: AI Engineer. Location: Central Lond...   \n",
       "1  AI Solution Architect - 18-month Contract - Fe...   \n",
       "2  Role: AI Project Manager. Location: City of Lo...   \n",
       "3  London– Senior AI Engineer - £60 – 80k – AI An...   \n",
       "4  Head of AI - Robotic Autonomy. Are you passion...   \n",
       "\n",
       "                                                 url  \n",
       "0  https://www.cv-library.co.uk/job/222767113/AI-...  \n",
       "1  https://www.cv-library.co.uk/job/222799912/AI-...  \n",
       "2  https://www.cv-library.co.uk/job/222863903/AI-...  \n",
       "3  https://www.cv-library.co.uk/job/220343944/Sen...  \n",
       "4  https://www.cv-library.co.uk/job/222845101/Hea...  "
      ]
     },
     "execution_count": 3,
     "metadata": {},
     "output_type": "execute_result"
    }
   ],
   "source": [
    "df = pd.read_feather(\"../intersect/data/jobs-144.feather\")\n",
    "df.head()"
   ]
  },
  {
   "cell_type": "code",
   "execution_count": 14,
   "metadata": {},
   "outputs": [
    {
     "name": "stdout",
     "output_type": "stream",
     "text": [
      "<class 'pandas.core.frame.DataFrame'>\n",
      "RangeIndex: 28 entries, 0 to 27\n",
      "Data columns (total 7 columns):\n",
      " #   Column        Non-Null Count  Dtype \n",
      "---  ------        --------------  ----- \n",
      " 0   title         28 non-null     object\n",
      " 1   company       28 non-null     object\n",
      " 2   location      28 non-null     object\n",
      " 3   salary        28 non-null     object\n",
      " 4   type          28 non-null     object\n",
      " 5   posted        28 non-null     object\n",
      " 6   job_industry  25 non-null     object\n",
      "dtypes: object(7)\n",
      "memory usage: 1.7+ KB\n"
     ]
    }
   ],
   "source": [
    "df.info()"
   ]
  },
  {
   "cell_type": "code",
   "execution_count": 10,
   "metadata": {},
   "outputs": [
    {
     "data": {
      "text/plain": [
       "6    Lead Gen AI/ML Engineer (Python/React)   Our t...\n",
       "Name: description, dtype: object"
      ]
     },
     "execution_count": 10,
     "metadata": {},
     "output_type": "execute_result"
    }
   ],
   "source": [
    "df.sample(1)['description']"
   ]
  },
  {
   "cell_type": "code",
   "execution_count": null,
   "metadata": {},
   "outputs": [],
   "source": []
  }
 ],
 "metadata": {
  "kernelspec": {
   "display_name": ".venv",
   "language": "python",
   "name": "python3"
  },
  "language_info": {
   "codemirror_mode": {
    "name": "ipython",
    "version": 3
   },
   "file_extension": ".py",
   "mimetype": "text/x-python",
   "name": "python",
   "nbconvert_exporter": "python",
   "pygments_lexer": "ipython3",
   "version": "3.10.12"
  }
 },
 "nbformat": 4,
 "nbformat_minor": 2
}
