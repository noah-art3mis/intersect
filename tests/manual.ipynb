{
 "cells": [
  {
   "cell_type": "code",
   "execution_count": 2,
   "metadata": {},
   "outputs": [],
   "source": [
    "import pandas as pd"
   ]
  },
  {
   "cell_type": "code",
   "execution_count": 4,
   "metadata": {},
   "outputs": [
    {
     "data": {
      "text/html": [
       "<div>\n",
       "<style scoped>\n",
       "    .dataframe tbody tr th:only-of-type {\n",
       "        vertical-align: middle;\n",
       "    }\n",
       "\n",
       "    .dataframe tbody tr th {\n",
       "        vertical-align: top;\n",
       "    }\n",
       "\n",
       "    .dataframe thead th {\n",
       "        text-align: right;\n",
       "    }\n",
       "</style>\n",
       "<table border=\"1\" class=\"dataframe\">\n",
       "  <thead>\n",
       "    <tr style=\"text-align: right;\">\n",
       "      <th></th>\n",
       "      <th>title</th>\n",
       "      <th>company</th>\n",
       "      <th>location</th>\n",
       "      <th>salary</th>\n",
       "      <th>type</th>\n",
       "      <th>posted</th>\n",
       "      <th>job_industry</th>\n",
       "      <th>abstract</th>\n",
       "      <th>url</th>\n",
       "      <th>description</th>\n",
       "    </tr>\n",
       "  </thead>\n",
       "  <tbody>\n",
       "    <tr>\n",
       "      <th>0</th>\n",
       "      <td>AI Engineer</td>\n",
       "      <td>Randstad Technologies Recruitment</td>\n",
       "      <td>London</td>\n",
       "      <td>£80,000 - £130,000/annum</td>\n",
       "      <td>Permanent</td>\n",
       "      <td>2024-12-09T11:34:31Z</td>\n",
       "      <td>Engineering</td>\n",
       "      <td>Job Title: AI Engineer. Location: Central Lond...</td>\n",
       "      <td>https://www.cv-library.co.uk/job/222767113/AI-...</td>\n",
       "      <td>Job Title: AI EngineerLocation: Central London...</td>\n",
       "    </tr>\n",
       "    <tr>\n",
       "      <th>1</th>\n",
       "      <td>AI Solution Architect</td>\n",
       "      <td>GCS Ltd</td>\n",
       "      <td>London</td>\n",
       "      <td>£800 - £900/day</td>\n",
       "      <td>Contract</td>\n",
       "      <td>2024-12-16T17:10:19Z</td>\n",
       "      <td>IT</td>\n",
       "      <td>AI Solution Architect - 18-month Contract - Fe...</td>\n",
       "      <td>https://www.cv-library.co.uk/job/222799912/AI-...</td>\n",
       "      <td>AI Solution Architect - 18-month Contract - Fe...</td>\n",
       "    </tr>\n",
       "    <tr>\n",
       "      <th>2</th>\n",
       "      <td>Senior AI Engineer</td>\n",
       "      <td>Platform Recruitment</td>\n",
       "      <td>WC2A, Holborn and Covent Garden, Greater London</td>\n",
       "      <td>£60,000 - £80,000/annum</td>\n",
       "      <td>Permanent</td>\n",
       "      <td>2024-12-23T11:31:09Z</td>\n",
       "      <td>Engineering</td>\n",
       "      <td>London– Senior AI Engineer - £60 – 80k – AI An...</td>\n",
       "      <td>https://www.cv-library.co.uk/job/220343944/Sen...</td>\n",
       "      <td>London– Senior AI Engineer - £60 – 80k – AI An...</td>\n",
       "    </tr>\n",
       "    <tr>\n",
       "      <th>3</th>\n",
       "      <td>Head of AI - Robotics</td>\n",
       "      <td>Lawrence Harvey</td>\n",
       "      <td>London</td>\n",
       "      <td>£100,000 - £200,000/annum + benefits</td>\n",
       "      <td>Permanent</td>\n",
       "      <td>2025-01-03T07:00:04Z</td>\n",
       "      <td></td>\n",
       "      <td>Head of AI - Robotic Autonomy. Are you passion...</td>\n",
       "      <td>https://www.cv-library.co.uk/job/222845101/Hea...</td>\n",
       "      <td>Head of AI - Robotic Autonomy Are you passiona...</td>\n",
       "    </tr>\n",
       "    <tr>\n",
       "      <th>4</th>\n",
       "      <td>Data Planner - AI</td>\n",
       "      <td>Randstad Technologies Recruitment</td>\n",
       "      <td>London</td>\n",
       "      <td>£110,000 - £150,000/annum</td>\n",
       "      <td>Permanent</td>\n",
       "      <td>2024-12-17T09:17:24Z</td>\n",
       "      <td>IT</td>\n",
       "      <td>Data Planner - AI/Telecoms/Linguistics Special...</td>\n",
       "      <td>https://www.cv-library.co.uk/job/222801003/Dat...</td>\n",
       "      <td>Data Planner - AI/Telecoms/Linguistics Special...</td>\n",
       "    </tr>\n",
       "  </tbody>\n",
       "</table>\n",
       "</div>"
      ],
      "text/plain": [
       "                   title                            company  \\\n",
       "0            AI Engineer  Randstad Technologies Recruitment   \n",
       "1  AI Solution Architect                            GCS Ltd   \n",
       "2     Senior AI Engineer               Platform Recruitment   \n",
       "3  Head of AI - Robotics                    Lawrence Harvey   \n",
       "4      Data Planner - AI  Randstad Technologies Recruitment   \n",
       "\n",
       "                                          location  \\\n",
       "0                                           London   \n",
       "1                                           London   \n",
       "2  WC2A, Holborn and Covent Garden, Greater London   \n",
       "3                                           London   \n",
       "4                                           London   \n",
       "\n",
       "                                 salary       type                posted  \\\n",
       "0              £80,000 - £130,000/annum  Permanent  2024-12-09T11:34:31Z   \n",
       "1                       £800 - £900/day   Contract  2024-12-16T17:10:19Z   \n",
       "2               £60,000 - £80,000/annum  Permanent  2024-12-23T11:31:09Z   \n",
       "3  £100,000 - £200,000/annum + benefits  Permanent  2025-01-03T07:00:04Z   \n",
       "4             £110,000 - £150,000/annum  Permanent  2024-12-17T09:17:24Z   \n",
       "\n",
       "  job_industry                                           abstract  \\\n",
       "0  Engineering  Job Title: AI Engineer. Location: Central Lond...   \n",
       "1           IT  AI Solution Architect - 18-month Contract - Fe...   \n",
       "2  Engineering  London– Senior AI Engineer - £60 – 80k – AI An...   \n",
       "3               Head of AI - Robotic Autonomy. Are you passion...   \n",
       "4           IT  Data Planner - AI/Telecoms/Linguistics Special...   \n",
       "\n",
       "                                                 url  \\\n",
       "0  https://www.cv-library.co.uk/job/222767113/AI-...   \n",
       "1  https://www.cv-library.co.uk/job/222799912/AI-...   \n",
       "2  https://www.cv-library.co.uk/job/220343944/Sen...   \n",
       "3  https://www.cv-library.co.uk/job/222845101/Hea...   \n",
       "4  https://www.cv-library.co.uk/job/222801003/Dat...   \n",
       "\n",
       "                                         description  \n",
       "0  Job Title: AI EngineerLocation: Central London...  \n",
       "1  AI Solution Architect - 18-month Contract - Fe...  \n",
       "2  London– Senior AI Engineer - £60 – 80k – AI An...  \n",
       "3  Head of AI - Robotic Autonomy Are you passiona...  \n",
       "4  Data Planner - AI/Telecoms/Linguistics Special...  "
      ]
     },
     "execution_count": 4,
     "metadata": {},
     "output_type": "execute_result"
    }
   ],
   "source": [
    "df = pd.read_feather(\"../intersect/data/jobs2.feather\")\n",
    "df.head()"
   ]
  },
  {
   "cell_type": "code",
   "execution_count": 14,
   "metadata": {},
   "outputs": [
    {
     "name": "stdout",
     "output_type": "stream",
     "text": [
      "<class 'pandas.core.frame.DataFrame'>\n",
      "RangeIndex: 28 entries, 0 to 27\n",
      "Data columns (total 7 columns):\n",
      " #   Column        Non-Null Count  Dtype \n",
      "---  ------        --------------  ----- \n",
      " 0   title         28 non-null     object\n",
      " 1   company       28 non-null     object\n",
      " 2   location      28 non-null     object\n",
      " 3   salary        28 non-null     object\n",
      " 4   type          28 non-null     object\n",
      " 5   posted        28 non-null     object\n",
      " 6   job_industry  25 non-null     object\n",
      "dtypes: object(7)\n",
      "memory usage: 1.7+ KB\n"
     ]
    }
   ],
   "source": [
    "df.info()"
   ]
  },
  {
   "cell_type": "code",
   "execution_count": 10,
   "metadata": {},
   "outputs": [
    {
     "data": {
      "text/plain": [
       "6    Lead Gen AI/ML Engineer (Python/React)   Our t...\n",
       "Name: description, dtype: object"
      ]
     },
     "execution_count": 10,
     "metadata": {},
     "output_type": "execute_result"
    }
   ],
   "source": [
    "df.sample(1)['description']"
   ]
  },
  {
   "cell_type": "code",
   "execution_count": null,
   "metadata": {},
   "outputs": [],
   "source": []
  }
 ],
 "metadata": {
  "kernelspec": {
   "display_name": ".venv",
   "language": "python",
   "name": "python3"
  },
  "language_info": {
   "codemirror_mode": {
    "name": "ipython",
    "version": 3
   },
   "file_extension": ".py",
   "mimetype": "text/x-python",
   "name": "python",
   "nbconvert_exporter": "python",
   "pygments_lexer": "ipython3",
   "version": "3.10.12"
  }
 },
 "nbformat": 4,
 "nbformat_minor": 2
}
