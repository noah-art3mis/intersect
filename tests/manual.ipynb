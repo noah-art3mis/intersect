{
 "cells": [
  {
   "cell_type": "code",
   "execution_count": 7,
   "metadata": {},
   "outputs": [
    {
     "data": {
      "text/plain": [
       "<Response [200]>"
      ]
     },
     "execution_count": 7,
     "metadata": {},
     "output_type": "execute_result"
    }
   ],
   "source": [
    "from curl_cffi import requests\n",
    "from urllib.parse import urlencode\n",
    "\n",
    "KEYWORDS = \"law\"\n",
    "LOCATION = \"london\"\n",
    "N_PAGES = 2\n",
    "PERPAGE = 100\n",
    "SEMAPHORE = 3\n",
    "\n",
    "def setup_url(keywords: str, location: str, page: int, perpage: int) -> str:\n",
    "    base_url = \"https://www.cv-library.co.uk/\"\n",
    "\n",
    "    query_params = {\n",
    "        \"page\": page,\n",
    "        \"perpage\": perpage,\n",
    "        \"us\": 1\n",
    "    }\n",
    "\n",
    "    query_string = urlencode(query_params)\n",
    "    keywords_encoded = keywords.replace(' ', '-')\n",
    "    location_encoded = location.replace(' ', '-')\n",
    "\n",
    "    return f\"{base_url}{keywords_encoded}-jobs-in-{location_encoded}?{query_string}\"\n",
    "\n",
    "\n",
    "URL = setup_url(KEYWORDS, LOCATION, N_PAGES, PERPAGE)\n",
    "r = requests.get(URL, impersonate=\"chrome\")\n",
    "r"
   ]
  },
  {
   "cell_type": "code",
   "execution_count": null,
   "metadata": {},
   "outputs": [
    {
     "name": "stdout",
     "output_type": "stream",
     "text": [
      "https://www.cv-library.co.uk/data-scientist-jobs-in-London?page=1&perpage=20&us=1\n"
     ]
    }
   ],
   "source": []
  },
  {
   "cell_type": "code",
   "execution_count": null,
   "metadata": {},
   "outputs": [],
   "source": []
  }
 ],
 "metadata": {
  "kernelspec": {
   "display_name": ".venv",
   "language": "python",
   "name": "python3"
  },
  "language_info": {
   "codemirror_mode": {
    "name": "ipython",
    "version": 3
   },
   "file_extension": ".py",
   "mimetype": "text/x-python",
   "name": "python",
   "nbconvert_exporter": "python",
   "pygments_lexer": "ipython3",
   "version": "3.10.12"
  }
 },
 "nbformat": 4,
 "nbformat_minor": 2
}
